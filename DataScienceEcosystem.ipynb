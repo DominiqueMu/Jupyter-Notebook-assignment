{
 "cells": [
  {
   "cell_type": "markdown",
   "id": "b31535db-4a89-494b-8b30-83c8594c5e00",
   "metadata": {},
   "source": [
    "# Data Science Tools and Ecosystem"
   ]
  },
  {
   "cell_type": "markdown",
   "id": "c3fff41a-c9c5-4fdf-ba89-31785020d452",
   "metadata": {},
   "source": [
    "In this notebook, Data Science Tools and Ecosystem are summarized."
   ]
  },
  {
   "cell_type": "markdown",
   "id": "ed7762f3-980b-43cb-bb3e-30278349ff15",
   "metadata": {
    "tags": []
   },
   "source": [
    "**Objectives:**\n",
    "- List popular languages for Data Science\n",
    "- List of common libraries used in Data Science\n",
    "- Data science tools\n",
    "- Examples of arithmetic expressions\n"
   ]
  },
  {
   "cell_type": "markdown",
   "id": "ae9a33a3-2c6d-4230-9fe5-583ca1cfb34d",
   "metadata": {},
   "source": [
    "Some of the popular languages that Data Scientists use are:\n",
    "\n",
    "    1. Python\n",
    "    2. R\n",
    "    3. SQL\n",
    "    4. SCALA\n",
    "    5. JAVA\n",
    "    6. JULIA\n",
    "    7. C++\n"
   ]
  },
  {
   "cell_type": "markdown",
   "id": "17e04e6f-be05-4564-8c3e-f724ff7b8337",
   "metadata": {},
   "source": [
    "Some of the commonly used libraries used by Data Scientists include:\n",
    "\n",
    "1. Pandas (data structures & tools)\n",
    "2. NumPy (arrays and matrices)\n",
    "3. Matplotlib (plots & graph)\n",
    "4. Seaborn (plots heat maps , time series violin plots)\n",
    "5. ggplot2 for data visualization in R\n",
    "6. TensorFlow (deep learning production and deployment )\n",
    "7. PyTorch (deep learning regression ,classification)\n",
    "\n",
    "\n",
    "\n"
   ]
  },
  {
   "cell_type": "markdown",
   "id": "caea8f9c-4629-4bc3-84a3-b80c6d3b6b42",
   "metadata": {},
   "source": [
    "|Data Science Tools|\n",
    "|-------|\n",
    "|jupyter notebook|\n",
    "|Rstudio|\n",
    "|Googlecolab|"
   ]
  },
  {
   "cell_type": "markdown",
   "id": "228b142c-c5b2-440f-9f2b-969f1fb34a9d",
   "metadata": {},
   "source": [
    "### Below are a few examples of evaluating arithmetic expressions in Python"
   ]
  },
  {
   "cell_type": "code",
   "execution_count": 1,
   "id": "bea6aebf-2c71-4805-b781-3173424518cf",
   "metadata": {
    "tags": []
   },
   "outputs": [
    {
     "data": {
      "text/plain": [
       "17"
      ]
     },
     "execution_count": 1,
     "metadata": {},
     "output_type": "execute_result"
    }
   ],
   "source": [
    "# This a simple arithmetic expression to mutiply then add integers\n",
    "\n",
    "(3*4)+5"
   ]
  },
  {
   "cell_type": "code",
   "execution_count": 8,
   "id": "9443a5f7-7a8a-42c0-ac17-ca464ec03285",
   "metadata": {
    "tags": []
   },
   "outputs": [
    {
     "name": "stdout",
     "output_type": "stream",
     "text": [
      "3.3333333333333335\n"
     ]
    }
   ],
   "source": [
    "# This will convert 200 minutes to hours by diving by 60\n",
    "\n",
    "minutestohours= 200/60\n",
    "print(minutestohours)"
   ]
  },
  {
   "cell_type": "markdown",
   "id": "3597610d-679e-4503-8ed9-6accf50ed6d6",
   "metadata": {
    "tags": []
   },
   "source": [
    "## Author\n",
    "\n",
    "Muragijimana Dominique"
   ]
  },
  {
   "cell_type": "code",
   "execution_count": null,
   "id": "3a1d92a7-2c47-4b37-8624-7f9c49feeafd",
   "metadata": {},
   "outputs": [],
   "source": []
  }
 ],
 "metadata": {
  "kernelspec": {
   "display_name": "Python",
   "language": "python",
   "name": "conda-env-python-py"
  },
  "language_info": {
   "codemirror_mode": {
    "name": "ipython",
    "version": 3
   },
   "file_extension": ".py",
   "mimetype": "text/x-python",
   "name": "python",
   "nbconvert_exporter": "python",
   "pygments_lexer": "ipython3",
   "version": "3.7.12"
  }
 },
 "nbformat": 4,
 "nbformat_minor": 5
}
